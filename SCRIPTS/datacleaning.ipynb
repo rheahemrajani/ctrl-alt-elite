{
  "nbformat": 4,
  "nbformat_minor": 0,
  "metadata": {
    "colab": {
      "provenance": []
    },
    "kernelspec": {
      "name": "python3",
      "display_name": "Python 3"
    },
    "language_info": {
      "name": "python"
    }
  },
  "cells": [
    {
      "cell_type": "code",
      "execution_count": null,
      "metadata": {
        "id": "QSB1-8vXzjb_"
      },
      "outputs": [],
      "source": [
        "\n",
        "# 1_data_cleaning.py\n",
        "# This script loads the raw dataset (Tweets.csv) and performs data cleaning.\n",
        "# The cleaned data is saved as Clean_Tweets.csv in the DATA folder.\n",
        "\n",
        "import pandas as pd\n",
        "\n",
        "# Load dataset\n",
        "df = pd.read_csv(\"../DATA/Tweets.csv\")\n",
        "\n",
        "# Basic cleaning (e.g., dropping missing values, removing unwanted columns)\n",
        "df = df.dropna(subset=[\"text\", \"airline_sentiment\"])\n",
        "df = df[[\"text\", \"airline\", \"airline_sentiment\", \"negativereason_confidence\"]]\n",
        "\n",
        "# Save cleaned dataset\n",
        "df.to_csv(\"../DATA/Clean_Tweets.csv\", index=False)\n",
        "\n",
        "print(\"Data cleaning complete. Clean_Tweets.csv saved.\")\n"
      ]
    }
  ]
}