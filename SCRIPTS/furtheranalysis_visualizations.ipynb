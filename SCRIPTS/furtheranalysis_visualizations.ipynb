{
  "nbformat": 4,
  "nbformat_minor": 0,
  "metadata": {
    "colab": {
      "provenance": []
    },
    "kernelspec": {
      "name": "python3",
      "display_name": "Python 3"
    },
    "language_info": {
      "name": "python"
    }
  },
  "cells": [
    {
      "cell_type": "code",
      "source": [
        "import pandas as pd\n",
        "import seaborn as sns\n",
        "import matplotlib.pyplot as plt\n",
        "import statsmodels.api as sm\n",
        "\n",
        "# Load cleaned dataset with sentiment scores\n",
        "df = pd.read_csv(\"../DATA/Clean_Tweets_With_Sentiment.csv\")"
      ],
      "metadata": {
        "id": "1zgZDF8l4RRU"
      },
      "execution_count": null,
      "outputs": []
    },
    {
      "cell_type": "code",
      "source": [
        "# linear regression - do negative sentiment scores correlate with frequent words from TF-IDF?\n",
        "\n",
        "import pandas as pd\n",
        "import numpy as np\n",
        "from sklearn.model_selection import train_test_split\n",
        "from sklearn.linear_model import LinearRegression\n",
        "from sklearn.metrics import r2_score\n",
        "\n",
        "# Load the TF-IDF results and original dataset\n",
        "tfidf_df = pd.read_csv(\"tfidf_results.csv\")  # Adjust path if needed\n",
        "\n",
        "# Ensure text and sentiment columns are named correctly\n",
        "sentiment_column = \"negative_sentiment_score\"  # Ensure this exists in your dataset\n",
        "\n",
        "# Merge the TF-IDF dataframe with the sentiment scores\n",
        "df_combined = pd.concat([df[sentiment_column], tfidf_df], axis=1)\n",
        "\n",
        "# Define features (X) and target (y)\n",
        "X = df_combined.drop(columns=[sentiment_column])  # TF-IDF features\n",
        "y = df_combined[sentiment_column]  # Negative sentiment scores\n",
        "\n",
        "# Split into training and test sets (80-20 split)\n",
        "X_train, X_test, y_train, y_test = train_test_split(X, y, test_size=0.2, random_state=42)\n",
        "\n",
        "# Train a linear regression model\n",
        "model = LinearRegression()\n",
        "model.fit(X_train, y_train)\n",
        "\n",
        "# Make predictions\n",
        "y_pred = model.predict(X_test)\n",
        "\n",
        "# Evaluate the model\n",
        "r2 = r2_score(y_test, y_pred)\n",
        "print(f\"R² Score: {r2:.4f}\")\n",
        "\n",
        "# Get feature importance (coefficients)\n",
        "feature_importance = pd.Series(model.coef_, index=X.columns).sort_values(ascending=False)\n",
        "print(\"Top 10 most predictive words:\")\n",
        "print(feature_importance.head(10))\n",
        "\n",
        "# Save feature importance to a file (optional)\n",
        "feature_importance.to_csv(\"word_correlation_scores.csv\")"
      ],
      "metadata": {
        "id": "FUqJVgI_4mNY"
      },
      "execution_count": null,
      "outputs": []
    },
    {
      "cell_type": "code",
      "execution_count": null,
      "metadata": {
        "id": "ST43YCoG3Qit"
      },
      "outputs": [],
      "source": [
        "# word cloud for top 10 most predictive words for negative sentiment scores\n",
        "\n",
        "import matplotlib.pyplot as plt\n",
        "from wordcloud import WordCloud\n",
        "\n",
        "# Generate word cloud based on feature importance\n",
        "wordcloud = WordCloud(width=800, height=400, background_color=\"white\").generate_from_frequencies(feature_importance)\n",
        "\n",
        "# Display the word cloud\n",
        "plt.figure(figsize=(10, 5))\n",
        "plt.imshow(wordcloud, interpolation=\"bilinear\")\n",
        "plt.axis(\"off\")  # Hide axes\n",
        "plt.title(\"Top Predictive Words for Airline Negative Sentiment\", fontsize=14)\n",
        "plt.show()"
      ]
    },
    {
      "cell_type": "code",
      "source": [
        "# Convert feature importance dictionary to a DataFrame\n",
        "word_scores = pd.DataFrame(list(feature_importance.items()), columns=[\"word\", \"vader_score\"])\n",
        "\n",
        "# Select the top 10 words with highest absolute VADER scores (strongest predictors)\n",
        "top_words = word_scores.reindex(word_scores[\"vader_score\"].abs().nlargest(10).index)\n",
        "\n",
        "# Plot bar chart\n",
        "plt.figure(figsize=(8, 5))\n",
        "sns.barplot(y=top_words[\"word\"], x=top_words[\"vader_score\"], palette=\"coolwarm\")\n",
        "\n",
        "# Labels and title\n",
        "plt.xlabel(\"VADER Sentiment Score\")\n",
        "plt.ylabel(\"Words\")\n",
        "plt.title(\"Top 10 Predictive Words\")\n",
        "plt.axvline(0, color='black', linewidth=1)  # Adds a vertical line at neutral (0)\n",
        "plt.grid(axis=\"x\", linestyle=\"--\", alpha=0.5)\n",
        "\n",
        "plt.show()"
      ],
      "metadata": {
        "id": "v0c-wByU3sLd"
      },
      "execution_count": null,
      "outputs": []
    },
    {
      "cell_type": "code",
      "source": [
        "import pandas as pd\n",
        "import seaborn as sns\n",
        "import matplotlib.pyplot as plt\n",
        "from vaderSentiment.vaderSentiment import SentimentIntensityAnalyzer\n",
        "\n",
        "\n",
        "\n",
        "# Initialize VADER sentiment analyzer\n",
        "analyzer = SentimentIntensityAnalyzer()\n",
        "\n",
        "# Apply VADER to get sentiment scores for each tweet\n",
        "df[\"vader_score\"] = df[\"text\"].apply(lambda tweet: analyzer.polarity_scores(tweet)[\"compound\"])\n",
        "\n",
        "# Compute average sentiment score per airline\n",
        "airline_sentiment = df.groupby(\"airline\")[\"vader_score\"].mean().reset_index()\n",
        "\n",
        "# Sort airlines by sentiment for better visualization\n",
        "airline_sentiment = airline_sentiment.sort_values(by=\"vader_score\", ascending=True)\n",
        "\n",
        "# Plot bar chart\n",
        "plt.figure(figsize=(8, 5))\n",
        "sns.barplot(y=airline_sentiment[\"airline\"], x=airline_sentiment[\"vader_score\"], palette=\"coolwarm\")\n",
        "\n",
        "# Labels and title\n",
        "plt.xlabel(\"Average VADER Sentiment Score\")\n",
        "plt.ylabel(\"Airline\")\n",
        "plt.title(\"Average Sentiment Scores Across Airlines\")\n",
        "plt.axvline(0, color='black', linewidth=1, linestyle=\"--\")  # Neutral sentiment reference line\n",
        "plt.grid(axis=\"x\", linestyle=\"--\", alpha=0.5)\n",
        "\n",
        "plt.show()"
      ],
      "metadata": {
        "id": "4S-cd7FC4N0B"
      },
      "execution_count": null,
      "outputs": []
    },
    {
      "cell_type": "code",
      "source": [
        "# is there a difference between predicted sentiment scores included in the dataset and VADER?"
      ],
      "metadata": {
        "id": "y40jXRCf3swW"
      },
      "execution_count": null,
      "outputs": []
    },
    {
      "cell_type": "code",
      "source": [
        "pip install statsmodels"
      ],
      "metadata": {
        "id": "HPjZaUSI3utb"
      },
      "execution_count": null,
      "outputs": []
    },
    {
      "cell_type": "code",
      "source": [
        "import statsmodels.api as sm\n",
        "\n",
        "# Define X (predictor) and y (outcome)\n",
        "X = cdf[['negativereason_confidence']]  # Independent variable\n",
        "y = cdf['negative_sentiment_score']  # Dependent variable\n",
        "\n",
        "# Add a constant term for intercept\n",
        "X = sm.add_constant(X)\n",
        "\n",
        "# Fit the linear regression model\n",
        "model = sm.OLS(y, X).fit()\n",
        "\n",
        "# Print the model summary (includes p-values and confidence intervals)\n",
        "print(model.summary())"
      ],
      "metadata": {
        "id": "Zj8jkNI53wPv"
      },
      "execution_count": null,
      "outputs": []
    },
    {
      "cell_type": "code",
      "source": [
        "# correlation between word frequency and word importance\n",
        "\n",
        "from scipy.stats import pearsonr\n",
        "\n",
        "# Compute correlation between word frequency (TF-IDF sum) and word importance (regression coefficients)\n",
        "correlation, p_value = pearsonr(tfidf_df.sum(), feature_importance)\n",
        "\n",
        "# Print correlation results\n",
        "print(f\"Pearson Correlation: {correlation:.4f}\")\n",
        "print(f\"P-value: {p_value:.4f}\")"
      ],
      "metadata": {
        "id": "_cZcr38c3xwK"
      },
      "execution_count": null,
      "outputs": []
    },
    {
      "cell_type": "code",
      "source": [
        "import numpy as np\n",
        "import matplotlib.pyplot as plt\n",
        "\n",
        "plt.figure(figsize=(8, 5))\n",
        "\n",
        "# Apply log transformation (adding 1 to avoid log(0))\n",
        "sns.regplot(x=np.log1p(tfidf_df.sum()), y=feature_importance, scatter_kws={\"alpha\": 0.5}, line_kws={\"color\": \"red\"})\n",
        "\n",
        "plt.xlabel(\"Log Word Frequency (TF-IDF Sum)\")\n",
        "plt.ylabel(\"Predictive Strength (Regression Coefficients)\")\n",
        "plt.title(\"Log-Transformed Relationship Between Word Frequency and Predictive Strength\")\n",
        "plt.show()"
      ],
      "metadata": {
        "id": "WEEm9Qp231fP"
      },
      "execution_count": null,
      "outputs": []
    },
    {
      "cell_type": "code",
      "source": [
        "import statsmodels.api as sm\n",
        "import matplotlib.pyplot as plt\n",
        "import seaborn as sns\n",
        "\n",
        "# Set Seaborn style\n",
        "sns.set_style(\"whitegrid\")\n",
        "\n",
        "plt.figure(figsize=(8, 5))\n",
        "\n",
        "# Apply LOWESS smoothing\n",
        "lowess = sm.nonparametric.lowess(feature_importance, tfidf_df.sum(), frac=0.3)\n",
        "\n",
        "# Plot scatter points with transparency\n",
        "plt.scatter(tfidf_df.sum(), feature_importance, alpha=0.4, color=\"royalblue\", edgecolors=\"k\")\n",
        "\n",
        "# Plot LOWESS smoothed line\n",
        "plt.plot(lowess[:, 0], lowess[:, 1], color=\"crimson\", linewidth=2.5, label=\"LOWESS Fit\")\n",
        "\n",
        "# Labels and title\n",
        "plt.xlabel(\"Word Frequency (TF-IDF Sum)\", fontsize=12, fontweight=\"bold\")\n",
        "plt.ylabel(\"Predictive Strength (Regression Coefficients)\", fontsize=10, fontweight=\"bold\")\n",
        "plt.title(\"Relationship Between Word Frequency and Predictive Strength\", fontsize=14, fontweight=\"bold\")\n",
        "\n",
        "# Add subtle gridlines\n",
        "plt.grid(color=\"gray\", linestyle=\"dashed\", linewidth=0.5, alpha=0.6)\n",
        "\n",
        "# Remove top and right spines for a cleaner look\n",
        "sns.despine()\n",
        "\n",
        "# Add legend\n",
        "plt.legend(frameon=False, fontsize=10)\n",
        "\n",
        "# Show plot\n",
        "plt.show()"
      ],
      "metadata": {
        "id": "LmlL80Dz34ne"
      },
      "execution_count": null,
      "outputs": []
    },
    {
      "cell_type": "code",
      "source": [
        "keywords = [\"late\", \"cancelled\", \"long lines\"]\n",
        "\n",
        "# Create a column to check if the tweet contains the keywords\n",
        "for word in keywords:\n",
        "    cdf[word] = cdf[\"text\"].str.contains(word, case=False, na=False).astype(int)\n",
        "\n",
        "# Check how often each keyword appears\n",
        "keyword_counts = cdf[keywords].sum()\n",
        "print(keyword_counts)"
      ],
      "metadata": {
        "id": "JIYke0hQ37tZ"
      },
      "execution_count": null,
      "outputs": []
    },
    {
      "cell_type": "code",
      "source": [
        "keyword_sentiment = cdf.groupby(keywords)[\"negativereason_confidence\"].mean()\n",
        "print(keyword_sentiment)"
      ],
      "metadata": {
        "id": "Dk0e3yS84Auh"
      },
      "execution_count": null,
      "outputs": []
    },
    {
      "cell_type": "code",
      "source": [
        "from scipy.stats import spearmanr\n",
        "\n",
        "for word in keywords:\n",
        "    correlation, p_value = spearmanr(cdf[word], cdf[\"negativereason_confidence\"])\n",
        "    print(f\"Correlation between '{word}' and negative sentiment score: {correlation:.3f}, p-value: {p_value:.3f}\")"
      ],
      "metadata": {
        "id": "CChE99Me4Cec"
      },
      "execution_count": null,
      "outputs": []
    }
  ]
}