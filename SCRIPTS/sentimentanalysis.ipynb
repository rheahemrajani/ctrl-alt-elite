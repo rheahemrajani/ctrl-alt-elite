{
  "nbformat": 4,
  "nbformat_minor": 0,
  "metadata": {
    "colab": {
      "provenance": []
    },
    "kernelspec": {
      "name": "python3",
      "display_name": "Python 3"
    },
    "language_info": {
      "name": "python"
    }
  },
  "cells": [
    {
      "cell_type": "code",
      "execution_count": null,
      "metadata": {
        "id": "P4dy177q1336"
      },
      "outputs": [],
      "source": [
        "# sentiment analysis\n",
        "\n",
        "!pip install vaderSentiment\n",
        "from vaderSentiment.vaderSentiment import SentimentIntensityAnalyzer\n",
        "\n"
      ]
    },
    {
      "cell_type": "code",
      "source": [
        "\n",
        "\n",
        "# Load cleaned data\n",
        "df = pd.read_csv(\"../DATA/Clean_Tweets.csv\")\n",
        "\n",
        "# Initialize VADER\n",
        "analyzer = SentimentIntensityAnalyzer()\n",
        "\n",
        "# Apply VADER sentiment analysis\n",
        "df[\"negative_sentiment_score\"] = df[\"text\"].apply(lambda x: analyzer.polarity_scores(x)[\"neg\"])\n",
        "\n",
        "# Save the updated dataset\n",
        "df.to_csv(\"../DATA/Clean_Tweets_With_Sentiment.csv\", index=False)\n",
        "\n",
        "print(\"Sentiment analysis complete. Updated dataset saved.\")"
      ],
      "metadata": {
        "id": "BAE0vOpp2Ly_"
      },
      "execution_count": null,
      "outputs": []
    }
  ]
}