{
  "nbformat": 4,
  "nbformat_minor": 0,
  "metadata": {
    "colab": {
      "provenance": []
    },
    "kernelspec": {
      "name": "python3",
      "display_name": "Python 3"
    },
    "language_info": {
      "name": "python"
    }
  },
  "cells": [
    {
      "cell_type": "code",
      "execution_count": null,
      "metadata": {
        "id": "U3CV7sBw2utH"
      },
      "outputs": [],
      "source": [
        "# tf idf analysis"
      ]
    },
    {
      "cell_type": "code",
      "source": [
        "pip install scikit-learn nltk"
      ],
      "metadata": {
        "id": "li0Xfigr22tN"
      },
      "execution_count": null,
      "outputs": []
    },
    {
      "cell_type": "code",
      "source": [
        "from sklearn.feature_extraction.text import TfidfVectorizer\n",
        "\n",
        "# Load the dataset\n",
        "cdf = pd.read_csv(\"Clean_Tweets.csv\")  # Adjust path if needed\n",
        "\n",
        "# Ensure text column is named correctly\n",
        "text_column = \"text\"  # Change this if your column has a different name\n",
        "\n",
        "# Initialize TF-IDF Vectorizer\n",
        "vectorizer = TfidfVectorizer(stop_words=\"english\", max_features=20)  # Adjust max_features as needed\n",
        "\n",
        "# Transform the text data into a TF-IDF matrix\n",
        "tfidf_matrix = vectorizer.fit_transform(df[text_column].astype(str))\n",
        "\n",
        "# Get feature names (words)\n",
        "feature_names = vectorizer.get_feature_names_out()\n",
        "\n",
        "# Convert TF-IDF scores to a DataFrame\n",
        "tfidf_df = pd.DataFrame(tfidf_matrix.toarray(), columns=feature_names)\n",
        "\n",
        "# Display top words with highest TF-IDF scores (optional)\n",
        "print(tfidf_df.sum().sort_values(ascending=False).head(10))  # Top 10 words\n",
        "\n",
        "# Save the results (optional)\n",
        "tfidf_df.to_csv(\"tfidf_results.csv\", index=False)"
      ],
      "metadata": {
        "id": "DqDe8SGO23IL"
      },
      "execution_count": null,
      "outputs": []
    },
    {
      "cell_type": "code",
      "source": [
        "# linear regression - do negative sentiment scores correlate with frequent words from TF-IDF?\n",
        "\n",
        "import pandas as pd\n",
        "import numpy as np\n",
        "from sklearn.model_selection import train_test_split\n",
        "from sklearn.linear_model import LinearRegression\n",
        "from sklearn.metrics import r2_score\n",
        "\n",
        "# Load the TF-IDF results and original dataset\n",
        "tfidf_df = pd.read_csv(\"tfidf_results.csv\")  # Adjust path if needed\n",
        "df = pd.read_csv(\"Clean_Tweets.csv\")  # Adjust path if needed\n",
        "\n",
        "# Ensure text and sentiment columns are named correctly\n",
        "sentiment_column = \"negative_sentiment_score\"  # Ensure this exists in your dataset\n",
        "\n",
        "# Merge the TF-IDF dataframe with the sentiment scores\n",
        "df_combined = pd.concat([df[sentiment_column], tfidf_df], axis=1)\n",
        "\n",
        "# Define features (X) and target (y)\n",
        "X = df_combined.drop(columns=[sentiment_column])  # TF-IDF features\n",
        "y = df_combined[sentiment_column]  # Negative sentiment scores\n",
        "\n",
        "# Split into training and test sets (80-20 split)\n",
        "X_train, X_test, y_train, y_test = train_test_split(X, y, test_size=0.2, random_state=42)\n",
        "\n",
        "# Train a linear regression model\n",
        "model = LinearRegression()\n",
        "model.fit(X_train, y_train)\n",
        "\n",
        "# Make predictions\n",
        "y_pred = model.predict(X_test)\n",
        "\n",
        "# Evaluate the model\n",
        "r2 = r2_score(y_test, y_pred)\n",
        "print(f\"R² Score: {r2:.4f}\")\n",
        "\n",
        "# Get feature importance (coefficients)\n",
        "feature_importance = pd.Series(model.coef_, index=X.columns).sort_values(ascending=False)\n",
        "print(\"Top 10 most predictive words:\")\n",
        "print(feature_importance.head(10))\n",
        "\n",
        "# Save feature importance to a file (optional)\n",
        "feature_importance.to_csv(\"word_correlation_scores.csv\")"
      ],
      "metadata": {
        "id": "HjtbtIYG2_ho"
      },
      "execution_count": null,
      "outputs": []
    }
  ]
}